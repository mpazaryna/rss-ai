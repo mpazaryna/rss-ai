{
 "cells": [
  {
   "cell_type": "code",
   "execution_count": 14,
   "metadata": {},
   "outputs": [
    {
     "name": "stdout",
     "output_type": "stream",
     "text": [
      "Summary of the article:\n",
      "OpenAI has introduced a new series of reasoning models designed to spend more time thinking before responding to complex tasks in science, coding, and math. The first model in this series, o1, has shown promising results in tests, outperforming previous models on challenging tasks. These models also prioritize safety, with a new approach to ensure safety and alignment guidelines are followed. OpenAI is collaborating with AI Safety Institutes and enhancing safety protocols to ensure responsible development and deployment of these models. The o1 series is particularly useful for tackling complex problems in various fields, and a more cost-effective version, o1-mini, is also available for coding tasks. Users of ChatGPT Plus and Team can access these models, with plans to make them available to ChatGPT Free users in the future. Further updates and features are expected to be added to these models in the future.\n"
     ]
    }
   ],
   "source": [
    "from openai import OpenAI\n",
    "\n",
    "client = OpenAI()\n",
    "\n",
    "\n",
    "# Function to read the article\n",
    "def read_article():\n",
    "    with open('../data/mock/article.md', 'r') as file:\n",
    "        article_text = file.read()\n",
    "    return article_text\n",
    "\n",
    "# Function to summarize the article using the updated OpenAI method\n",
    "def summarize_article(article_text):\n",
    "    client = OpenAI()\n",
    "    completion = client.chat.completions.create(\n",
    "        messages=[\n",
    "            {\n",
    "                \"role\": \"user\",\n",
    "                \"content\": f\"Please summarize the following article: {article_text}\",\n",
    "            }\n",
    "        ],\n",
    "        model=\"gpt-3.5-turbo\",  # Use the specified model\n",
    "    )\n",
    "    return completion.choices[0].message.content\n",
    "\n",
    "# Read the article and display the summary\n",
    "article_text = read_article()  # Read the article text\n",
    "summary = summarize_article(article_text)  # Summarize the article\n",
    "print(\"Summary of the article:\")\n",
    "print(summary)  # Display the summary"
   ]
  }
 ],
 "metadata": {
  "kernelspec": {
   "display_name": "rss-ai-KvD6L406-py3.12",
   "language": "python",
   "name": "python3"
  },
  "language_info": {
   "codemirror_mode": {
    "name": "ipython",
    "version": 3
   },
   "file_extension": ".py",
   "mimetype": "text/x-python",
   "name": "python",
   "nbconvert_exporter": "python",
   "pygments_lexer": "ipython3",
   "version": "3.12.4"
  }
 },
 "nbformat": 4,
 "nbformat_minor": 2
}
